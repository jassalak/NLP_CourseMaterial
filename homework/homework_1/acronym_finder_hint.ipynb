{
 "cells": [
  {
   "cell_type": "markdown",
   "metadata": {},
   "source": [
    "The purpose of this code is to demonstrate a technique that could prove useful for searching for meaning of an acronym. \n",
    "\n",
    "Imagine then that you have a sequence of words from the sentence: \"The spokesperson for the Department of State said that peace is good.\" From this you can see that the words \"Department\", \"of\", \"State\" would be the components of an acronym DOS. So how might we find an automated way to capture this?\n",
    "\n",
    "A first step would be to think of this as some type finite state type of problem. You know that you can only accept a sequence of words as a possible spelling out of the acronym if it has words that begin with the same letters as contained in the acronym."
   ]
  },
  {
   "cell_type": "code",
   "execution_count": 25,
   "metadata": {},
   "outputs": [
    {
     "name": "stdout",
     "output_type": "stream",
     "text": [
      "['D', 'O', 'S']\n",
      "['The', 'Department', 'of', 'State', 'is', 'located', 'in', 'Foggy', 'Bottom', '.']\n",
      "A match!\n",
      "next letter found\n",
      "next letter found\n",
      "success!\n",
      "A match!\n",
      "Acronym Found\n",
      "['Department', 'of', 'State']\n",
      "Department of State\n"
     ]
    }
   ],
   "source": [
    "from nltk.tokenize import TreebankWordTokenizer\n",
    "treebank_tokenizer = TreebankWordTokenizer()\n",
    "\n",
    "\n",
    "\n",
    "acronym = \"DOS\"\n",
    "acronym_letters = list(acronym)\n",
    "print(acronym_letters) # notice here that we took a single word and broke it into a list of characters\n",
    "\n",
    "# now let's get a sentence with an acronym to find\n",
    "input = \"The Department of State is located in Foggy Bottom.\"\n",
    "\n",
    "tokens = treebank_tokenizer.tokenize(input)\n",
    "print(tokens)\n",
    "\n",
    "# now we need to come up with some mechanism to scan through the list of tokens to start \n",
    "# seeing if we can find a sequence of words that match our acronym\n",
    "\n",
    "acronym_letters_index = 0 # we set an index of the acronym letters to 0 meaning we are \n",
    "# about to start looking for the sequence of words\n",
    "\n",
    "acronym_found = False\n",
    "acronym_token_range = None\n",
    "\n",
    "for index in list(range(0, len(tokens))):\n",
    "    # what we now have is a for loop that will iterate through the indices of the tokens in the sentence\n",
    "    token = tokens[index] # this gets the particular token that we are looking at\n",
    "    if acronym_letters_index < len(acronym_letters) and token[0].lower() == acronym_letters[acronym_letters_index].lower():\n",
    "        print(\"A match!\")\n",
    "        acronym_letters_index += 1 # we now are looking for a word with the next letter\n",
    "        \n",
    "        acronym_start_index = index # an index of where we are saying the acronym starts\n",
    "        acronym_end_index = -1 # here we set the end index to -1 to indicate that we've not yet found an acronym\n",
    "        \n",
    "        # once we've found that there is a possible match we can start looking to the right of the current word to \n",
    "        # see if the following words match the pattern of the words\n",
    "        for acronym_finder_index in list(range(index + 1, len(tokens))): \n",
    "            # notice we start this for loop at one word \n",
    "            # to the right of where we currently are\n",
    "            next_token = tokens[acronym_finder_index]\n",
    "            if acronym_letters_index < len(acronym_letters) and next_token[0].lower() == acronym_letters[acronym_letters_index].lower() :\n",
    "                print(\"next letter found\")\n",
    "                if (acronym_letters_index + 1 < len(acronym_letters)):\n",
    "                    # this block of code means we have captured part of the acronym and are moving on to the next letter\n",
    "                    acronym_letters_index += 1\n",
    "                else:\n",
    "                    print(\"success!\")\n",
    "                    # if we are here then we have captured the acronym\n",
    "                    acronym_token_range = [acronym_start_index, acronym_finder_index]\n",
    "                    acronym_found = True\n",
    "                    acronym_start_index = 0\n",
    "                    break\n",
    "\n",
    "if acronym_found:\n",
    "    print(\"Acronym Found\")\n",
    "    print(tokens[acronym_token_range[0]:acronym_token_range[1]+1])\n",
    "    print(\" \".join(tokens[acronym_token_range[0]:acronym_token_range[1]+1]))\n",
    "            \n",
    "            \n"
   ]
  },
  {
   "cell_type": "markdown",
   "metadata": {},
   "source": [
    "So this implementation looks like it might work, but what if we have a similar acronym in the sentence and what if we put the real acronym at the end?"
   ]
  },
  {
   "cell_type": "code",
   "execution_count": 26,
   "metadata": {},
   "outputs": [
    {
     "name": "stdout",
     "output_type": "stream",
     "text": [
      "['The', 'Department', 'of', 'Defense', 'is', 'located', 'in', 'Arlington', 'but', 'the', 'Department', 'of', 'State', 'is', 'located', 'in', 'Foggy', 'Bottom', '.']\n",
      "A match!\n",
      "next letter found\n",
      "next letter found\n",
      "success!\n",
      "A match!\n",
      "Acronym Found\n",
      "['Department', 'of', 'Defense', 'is', 'located', 'in', 'Arlington', 'but', 'the', 'Department', 'of', 'State']\n",
      "Department of Defense is located in Arlington but the Department of State\n"
     ]
    }
   ],
   "source": [
    "# now let's get a sentence with an acronym to find\n",
    "input = \"The Department of Defense is located in Arlington but the Department of State is located in Foggy Bottom.\"\n",
    "\n",
    "tokens = treebank_tokenizer.tokenize(input)\n",
    "print(tokens)\n",
    "\n",
    "# now we need to come up with some mechanism to scan through the list of tokens to start \n",
    "# seeing if we can find a sequence of words that match our acronym\n",
    "\n",
    "acronym_letters_index = 0 # we set an index of the acronym letters to 0 meaning we are \n",
    "# about to start looking for the sequence of words\n",
    "\n",
    "acronym_found = False\n",
    "acronym_token_range = None\n",
    "\n",
    "for index in list(range(0, len(tokens))):\n",
    "    # what we now have is a for loop that will iterate through the indices of the tokens in the sentence\n",
    "    token = tokens[index] # this gets the particular token that we are looking at\n",
    "    if acronym_letters_index < len(acronym_letters) and token[0].lower() == acronym_letters[acronym_letters_index].lower():\n",
    "        print(\"A match!\")\n",
    "        acronym_letters_index += 1 # we now are looking for a word with the next letter\n",
    "        \n",
    "        acronym_start_index = index # an index of where we are saying the acronym starts\n",
    "        acronym_end_index = -1 # here we set the end index to -1 to indicate that we've not yet found an acronym\n",
    "        \n",
    "        # once we've found that there is a possible match we can start looking to the right of the current word to \n",
    "        # see if the following words match the pattern of the words\n",
    "        for acronym_finder_index in list(range(index + 1, len(tokens))): \n",
    "            # notice we start this for loop at one word \n",
    "            # to the right of where we currently are\n",
    "            next_token = tokens[acronym_finder_index]\n",
    "            if acronym_letters_index < len(acronym_letters) and next_token[0].lower() == acronym_letters[acronym_letters_index].lower():\n",
    "                print(\"next letter found\")\n",
    "                if (acronym_letters_index + 1 < len(acronym_letters)):\n",
    "                    # this block of code means we have captured part of the acronym and are moving on to the next letter\n",
    "                    acronym_letters_index += 1\n",
    "                else:\n",
    "                    print(\"success!\")\n",
    "                    # if we are here then we have captured the acronym\n",
    "                    acronym_token_range = [acronym_start_index, acronym_finder_index]\n",
    "                    acronym_found = True\n",
    "                    acronym_start_index = 0\n",
    "                    break\n",
    "            \n",
    "\n",
    "if acronym_found:\n",
    "    print(\"Acronym Found\")\n",
    "    print(tokens[acronym_token_range[0]:acronym_token_range[1]+1])\n",
    "    print(\" \".join(tokens[acronym_token_range[0]:acronym_token_range[1]+1]))\n",
    "            "
   ]
  },
  {
   "cell_type": "markdown",
   "metadata": {},
   "source": [
    "What we find here is that the acronym finder keeps running to try to find the full acronym and we get this wrong one.\n",
    "\n",
    "What we need to do is reset the acronym_letter_index back to 0, which means that we are not on the right path to find the acronym and must restart."
   ]
  },
  {
   "cell_type": "code",
   "execution_count": 28,
   "metadata": {},
   "outputs": [
    {
     "name": "stdout",
     "output_type": "stream",
     "text": [
      "['The', 'Department', 'of', 'Defense', 'is', 'located', 'in', 'Arlington', 'but', 'the', 'Department', 'of', 'State', 'is', 'located', 'in', 'Foggy', 'Bottom', '.']\n",
      "A match!\n",
      "next letter found\n",
      "A match!\n",
      "A match!\n",
      "next letter found\n",
      "next letter found\n",
      "success!\n",
      "A match!\n",
      "Acronym Found\n",
      "['Department', 'of', 'State']\n",
      "Department of State\n"
     ]
    }
   ],
   "source": [
    "# now let's get a sentence with an acronym to find\n",
    "input = \"The Department of Defense is located in Arlington but the Department of State is located in Foggy Bottom.\"\n",
    "\n",
    "tokens = treebank_tokenizer.tokenize(input)\n",
    "print(tokens)\n",
    "\n",
    "# now we need to come up with some mechanism to scan through the list of tokens to start \n",
    "# seeing if we can find a sequence of words that match our acronym\n",
    "\n",
    "acronym_letters_index = 0 # we set an index of the acronym letters to 0 meaning we are \n",
    "# about to start looking for the sequence of words\n",
    "\n",
    "acronym_found = False\n",
    "acronym_token_range = None\n",
    "\n",
    "for index in list(range(0, len(tokens))):\n",
    "    # what we now have is a for loop that will iterate through the indices of the tokens in the sentence\n",
    "    token = tokens[index] # this gets the particular token that we are looking at\n",
    "    if acronym_letters_index < len(acronym_letters) and token[0].lower() == acronym_letters[acronym_letters_index].lower():\n",
    "        print(\"A match!\")\n",
    "        acronym_letters_index += 1 # we now are looking for a word with the next letter\n",
    "        \n",
    "        acronym_start_index = index # an index of where we are saying the acronym starts\n",
    "        acronym_end_index = -1 # here we set the end index to -1 to indicate that we've not yet found an acronym\n",
    "        \n",
    "        # once we've found that there is a possible match we can start looking to the right of the current word to \n",
    "        # see if the following words match the pattern of the words\n",
    "        for acronym_finder_index in list(range(index + 1, len(tokens))): \n",
    "            # notice we start this for loop at one word \n",
    "            # to the right of where we currently are\n",
    "            next_token = tokens[acronym_finder_index]\n",
    "            if acronym_letters_index < len(acronym_letters) and next_token[0].lower() == acronym_letters[acronym_letters_index].lower():\n",
    "                print(\"next letter found\")\n",
    "                if (acronym_letters_index + 1 < len(acronym_letters)):\n",
    "                    # this block of code means we have captured part of the acronym and are moving on to the next letter\n",
    "                    acronym_letters_index += 1\n",
    "                else:\n",
    "                    print(\"success!\")\n",
    "                    # if we are here then we have captured the acronym\n",
    "                    acronym_token_range = [acronym_start_index, acronym_finder_index]\n",
    "                    acronym_found = True\n",
    "                    acronym_start_index = 0\n",
    "                    break\n",
    "            else:\n",
    "                acronym_letters_index = 0\n",
    "                break\n",
    "            \n",
    "\n",
    "if acronym_found:\n",
    "    print(\"Acronym Found\")\n",
    "    print(tokens[acronym_token_range[0]:acronym_token_range[1]+1])\n",
    "    print(\" \".join(tokens[acronym_token_range[0]:acronym_token_range[1]+1]))\n",
    "            "
   ]
  },
  {
   "cell_type": "markdown",
   "metadata": {},
   "source": [
    "Notice, this implementation seems to work, but improvements are still possible. \n",
    "\n",
    "There are additional problems with this implementation that you might wish to fix. These include being able to identify the acronym for the FBI in real text (that is dealing with the \"of\" word)."
   ]
  }
 ],
 "metadata": {
  "kernelspec": {
   "display_name": "Python 3",
   "language": "python",
   "name": "python3"
  },
  "language_info": {
   "codemirror_mode": {
    "name": "ipython",
    "version": 3
   },
   "file_extension": ".py",
   "mimetype": "text/x-python",
   "name": "python",
   "nbconvert_exporter": "python",
   "pygments_lexer": "ipython3",
   "version": "3.6.4"
  }
 },
 "nbformat": 4,
 "nbformat_minor": 2
}
