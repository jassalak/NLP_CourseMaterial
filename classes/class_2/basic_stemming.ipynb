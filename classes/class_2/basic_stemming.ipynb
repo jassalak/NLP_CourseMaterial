{
 "cells": [
  {
   "cell_type": "code",
   "execution_count": 1,
   "metadata": {},
   "outputs": [
    {
     "name": "stdout",
     "output_type": "stream",
     "text": [
      "[\"aren't\", 'goal', 'fashion', 'fashion', 'die', 'oxen', 'deer', 'tradit', 'affect']\n"
     ]
    }
   ],
   "source": [
    "from nltk.stem.porter import *\n",
    "porter_stemmer = PorterStemmer()\n",
    "\n",
    "sample_words = [\"aren't\", \"goals\", \"fashions\", \"fashionable\", \"dies\", \"oxen\", \"deer\", \"traditional\", \"affected\"]\n",
    "stemmed_words = [porter_stemmer.stem(word) for word in sample_words]\n",
    "print(stemmed_words)"
   ]
  },
  {
   "cell_type": "code",
   "execution_count": 2,
   "metadata": {},
   "outputs": [
    {
     "name": "stdout",
     "output_type": "stream",
     "text": [
      "[\"aren't\", 'goal', 'fashion', 'fashion', 'die', 'oxen', 'deer', 'tradit', 'affect']\n"
     ]
    }
   ],
   "source": [
    "from nltk.stem.snowball import EnglishStemmer\n",
    "english_stemmer = EnglishStemmer()\n",
    "\n",
    "sample_words = [\"aren't\", \"goals\", \"fashions\", \"fashionable\", \"dies\", \"oxen\", \"deer\", \"traditional\", \"affected\"]\n",
    "stemmed_words = [english_stemmer.stem(word) for word in sample_words]\n",
    "print(stemmed_words)"
   ]
  },
  {
   "cell_type": "code",
   "execution_count": 3,
   "metadata": {},
   "outputs": [
    {
     "name": "stdout",
     "output_type": "stream",
     "text": [
      "[\"aren't\", 'goal', 'fashion', 'fashionable', 'dy', 'ox', 'deer', 'traditional', 'traditionalism', 'affected']\n"
     ]
    }
   ],
   "source": [
    "from nltk.stem import WordNetLemmatizer\n",
    "wordnet_lemmatizer = WordNetLemmatizer()\n",
    "sample_words = [\"aren't\", \"goals\", \"fashions\", \"fashionable\", \"dies\", \"oxen\", \"deer\", \"traditional\", \"traditionalism\", \"affected\"]\n",
    "lemmatized_words = [wordnet_lemmatizer.lemmatize(word) for word in sample_words]\n",
    "print(lemmatized_words)"
   ]
  },
  {
   "cell_type": "code",
   "execution_count": 4,
   "metadata": {},
   "outputs": [
    {
     "name": "stdout",
     "output_type": "stream",
     "text": [
      "be\n"
     ]
    }
   ],
   "source": [
    "print(wordnet_lemmatizer.lemmatize(\"is\", pos='v'))"
   ]
  },
  {
   "cell_type": "code",
   "execution_count": null,
   "metadata": {},
   "outputs": [],
   "source": []
  }
 ],
 "metadata": {
  "kernelspec": {
   "display_name": "Python 3",
   "language": "python",
   "name": "python3"
  },
  "language_info": {
   "codemirror_mode": {
    "name": "ipython",
    "version": 3
   },
   "file_extension": ".py",
   "mimetype": "text/x-python",
   "name": "python",
   "nbconvert_exporter": "python",
   "pygments_lexer": "ipython3",
   "version": "3.6.5"
  }
 },
 "nbformat": 4,
 "nbformat_minor": 2
}
