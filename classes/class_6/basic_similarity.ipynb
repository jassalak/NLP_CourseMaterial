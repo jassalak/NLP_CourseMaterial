{
 "cells": [
  {
   "cell_type": "markdown",
   "metadata": {},
   "source": [
    "Jaccard\n"
   ]
  },
  {
   "cell_type": "code",
   "execution_count": 3,
   "metadata": {},
   "outputs": [
    {
     "name": "stdout",
     "output_type": "stream",
     "text": [
      "{'is', 'George', 'Jones'}\n"
     ]
    }
   ],
   "source": [
    "str1 = \"George Jones is a noted musician\"\n",
    "str2 = \"The bluegrass of George Jones is good\"\n",
    "\n",
    "a = set(str1.split()) \n",
    "b = set(str2.split())\n",
    "c = a.intersection(b)\n",
    "\n",
    "print(c)"
   ]
  },
  {
   "cell_type": "code",
   "execution_count": 4,
   "metadata": {},
   "outputs": [
    {
     "name": "stdout",
     "output_type": "stream",
     "text": [
      "0.3\n"
     ]
    }
   ],
   "source": [
    "jaccard = float(len(c)) / (len(a) + len(b) - len(c))\n",
    "print(jaccard)"
   ]
  },
  {
   "cell_type": "markdown",
   "metadata": {},
   "source": [
    "Cosine Similarity"
   ]
  },
  {
   "cell_type": "code",
   "execution_count": 16,
   "metadata": {},
   "outputs": [
    {
     "name": "stdout",
     "output_type": "stream",
     "text": [
      "0.4629100498862757\n"
     ]
    }
   ],
   "source": [
    "import numpy\n",
    "a = [1,1,1,1,1,1,0,0,0,0]\n",
    "b = [1,1,1,0,0,0,1,1,1,1]\n",
    "dot_product = numpy.dot(a, b)\n",
    "norm_a = numpy.linalg.norm(a)\n",
    "norm_b = numpy.linalg.norm(b)\n",
    "cosine_similarity = dot_product / (norm_a * norm_b)\n",
    "\n",
    "print(cosine_similarity)\n",
    "\n"
   ]
  },
  {
   "cell_type": "code",
   "execution_count": null,
   "metadata": {},
   "outputs": [],
   "source": []
  }
 ],
 "metadata": {
  "kernelspec": {
   "display_name": "Python 3",
   "language": "python",
   "name": "python3"
  },
  "language_info": {
   "codemirror_mode": {
    "name": "ipython",
    "version": 3
   },
   "file_extension": ".py",
   "mimetype": "text/x-python",
   "name": "python",
   "nbconvert_exporter": "python",
   "pygments_lexer": "ipython3",
   "version": "3.6.5"
  }
 },
 "nbformat": 4,
 "nbformat_minor": 2
}
