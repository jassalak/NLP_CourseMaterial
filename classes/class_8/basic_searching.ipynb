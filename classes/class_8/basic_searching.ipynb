{
 "cells": [
  {
   "cell_type": "code",
   "execution_count": 2,
   "metadata": {},
   "outputs": [
    {
     "ename": "AttributeError",
     "evalue": "module 'urllib' has no attribute 'urlopen'",
     "output_type": "error",
     "traceback": [
      "\u001b[0;31m---------------------------------------------------------------------------\u001b[0m",
      "\u001b[0;31mAttributeError\u001b[0m                            Traceback (most recent call last)",
      "\u001b[0;32m<ipython-input-2-e2e12b9cd3d1>\u001b[0m in \u001b[0;36m<module>\u001b[0;34m()\u001b[0m\n\u001b[1;32m     19\u001b[0m \u001b[0mp\u001b[0m          \u001b[0;34m=\u001b[0m \u001b[0;34m\"&\"\u001b[0m\u001b[0;34m.\u001b[0m\u001b[0mjoin\u001b[0m\u001b[0;34m(\u001b[0m\u001b[0mparams\u001b[0m\u001b[0;34m)\u001b[0m\u001b[0;34m\u001b[0m\u001b[0m\n\u001b[1;32m     20\u001b[0m \u001b[0;34m\u001b[0m\u001b[0m\n\u001b[0;32m---> 21\u001b[0;31m \u001b[0mconnection\u001b[0m \u001b[0;34m=\u001b[0m \u001b[0murllib\u001b[0m\u001b[0;34m.\u001b[0m\u001b[0murlopen\u001b[0m\u001b[0;34m(\u001b[0m\u001b[0murl\u001b[0m\u001b[0;34m+\u001b[0m\u001b[0mp\u001b[0m\u001b[0;34m)\u001b[0m\u001b[0;34m\u001b[0m\u001b[0m\n\u001b[0m\u001b[1;32m     22\u001b[0m \u001b[0;34m\u001b[0m\u001b[0m\n\u001b[1;32m     23\u001b[0m \u001b[0;32mif\u001b[0m \u001b[0mwt\u001b[0m \u001b[0;34m==\u001b[0m \u001b[0;34m\"wt=json\"\u001b[0m\u001b[0;34m:\u001b[0m\u001b[0;34m\u001b[0m\u001b[0m\n",
      "\u001b[0;31mAttributeError\u001b[0m: module 'urllib' has no attribute 'urlopen'"
     ]
    }
   ],
   "source": [
    "import urllib\n",
    "import simplejson\n",
    "import pprint\n",
    "import sys\n",
    "\n",
    "host       = \"localhost\"\n",
    "port       = \"8983\"\n",
    "collection = \"techproducts\"\n",
    "qt         = \"select\"\n",
    "url        = 'http://' + host + ':' + port + '/solr/' + collection + '/' + qt + '?'\n",
    "\n",
    "q          = \"q=ipod\"\n",
    "fl         = \"fl=id,name\"\n",
    "fq         = \"fq=\"\n",
    "rows       = \"rows=10\"\n",
    "wt         = \"wt=json\"\n",
    "#wt        = \"wt=python\"\n",
    "params     = [ q, fl, fq, wt, rows ] \n",
    "p          = \"&\".join(params)\n",
    "\n",
    "connection = urllib.urlopen(url+p)\n",
    "\n",
    "if wt == \"wt=json\":\n",
    "  response   = simplejson.load(connection) \n",
    "else:\n",
    "  response   = eval(connection.read())\n",
    "\n",
    "print(\"Number of hits: \" + str(response['response']['numFound']))\n",
    "pprint.pprint(response['response']['docs'])"
   ]
  },
  {
   "cell_type": "code",
   "execution_count": null,
   "metadata": {},
   "outputs": [],
   "source": []
  }
 ],
 "metadata": {
  "kernelspec": {
   "display_name": "Python 3",
   "language": "python",
   "name": "python3"
  },
  "language_info": {
   "codemirror_mode": {
    "name": "ipython",
    "version": 3
   },
   "file_extension": ".py",
   "mimetype": "text/x-python",
   "name": "python",
   "nbconvert_exporter": "python",
   "pygments_lexer": "ipython3",
   "version": "3.6.4"
  }
 },
 "nbformat": 4,
 "nbformat_minor": 2
}
