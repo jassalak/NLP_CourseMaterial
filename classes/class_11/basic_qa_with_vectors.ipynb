{
 "cells": [
  {
   "cell_type": "markdown",
   "metadata": {},
   "source": [
    "Basic Question and Answer System with Word Vectors"
   ]
  },
  {
   "cell_type": "markdown",
   "metadata": {},
   "source": [
    "The purpose of these demonstrations will be to show how one might be able to prioritize sentences as containing an answer to a question. One can rapidly do this by making use of the similarity properties provided by word embeddings."
   ]
  },
  {
   "cell_type": "code",
   "execution_count": 11,
   "metadata": {},
   "outputs": [],
   "source": [
    "import json\n",
    "import spacy\n",
    "\n",
    "with open('dev-v2.0.json') as f:\n",
    "    data = json.load(f)\n",
    "\n",
    "context = data[\"data\"][0][\"paragraphs\"][0][\"context\"]\n",
    "questions = [question[\"question\"] for question in data[\"data\"][0][\"paragraphs\"][0][\"qas\"]]\n",
    "\n"
   ]
  },
  {
   "cell_type": "code",
   "execution_count": 12,
   "metadata": {},
   "outputs": [
    {
     "name": "stdout",
     "output_type": "stream",
     "text": [
      "['In what country is Normandy located?', 'When were the Normans in Normandy?', 'From which countries did the Norse originate?', 'Who was the Norse leader?', 'What century did the Normans first gain their separate identity?', \"Who gave their name to Normandy in the 1000's and 1100's\", 'What is France a region of?', 'Who did King Charles III swear fealty to?', 'When did the Frankish identity emerge?']\n"
     ]
    }
   ],
   "source": [
    "print(questions)"
   ]
  },
  {
   "cell_type": "code",
   "execution_count": 13,
   "metadata": {},
   "outputs": [
    {
     "name": "stdout",
     "output_type": "stream",
     "text": [
      "The Normans (Norman: Nourmands; French: Normands; Latin: Normanni) were the people who in the 10th and 11th centuries gave their name to Normandy, a region in France. They were descended from Norse (\"Norman\" comes from \"Norseman\") raiders and pirates from Denmark, Iceland and Norway who, under their leader Rollo, agreed to swear fealty to King Charles III of West Francia. Through generations of assimilation and mixing with the native Frankish and Roman-Gaulish populations, their descendants would gradually merge with the Carolingian-based cultures of West Francia. The distinct cultural and ethnic identity of the Normans emerged initially in the first half of the 10th century, and it continued to evolve over the succeeding centuries.\n"
     ]
    }
   ],
   "source": [
    "print(context)"
   ]
  },
  {
   "cell_type": "code",
   "execution_count": 14,
   "metadata": {},
   "outputs": [],
   "source": [
    "nlp = spacy.load('en_core_web_md') \n",
    "nlpcontext = nlp(context)\n"
   ]
  },
  {
   "cell_type": "code",
   "execution_count": 15,
   "metadata": {},
   "outputs": [],
   "source": [
    "nlpquestions = [nlp(question) for question in questions]\n"
   ]
  },
  {
   "cell_type": "code",
   "execution_count": 16,
   "metadata": {},
   "outputs": [
    {
     "name": "stdout",
     "output_type": "stream",
     "text": [
      "The Normans (Norman: Nourmands; French: Normands; Latin: Normanni) were the people who in the 10th and 11th centuries gave their name to Normandy, a region in France.\n",
      "^#^#^#^#^#^#^#^#^#^#\n",
      "In what country is Normandy located?\n",
      "0.8074100863795465\n",
      "When were the Normans in Normandy?\n",
      "0.8139010785758586\n",
      "From which countries did the Norse originate?\n",
      "0.7980746919153631\n",
      "Who was the Norse leader?\n",
      "0.7541616578552037\n",
      "What century did the Normans first gain their separate identity?\n",
      "0.8449530497861014\n",
      "Who gave their name to Normandy in the 1000's and 1100's\n",
      "0.8552577645777949\n",
      "What is France a region of?\n",
      "0.8268401328074777\n",
      "Who did King Charles III swear fealty to?\n",
      "0.7284248945518307\n",
      "When did the Frankish identity emerge?\n",
      "0.6858187493164973\n",
      "* * * * * * * * * * \n",
      "They were descended from Norse (\"Norman\" comes from \"Norseman\") raiders and pirates from Denmark, Iceland and Norway who, under their leader Rollo, agreed to swear fealty to King Charles III of West Francia.\n",
      "^#^#^#^#^#^#^#^#^#^#\n",
      "In what country is Normandy located?\n",
      "0.7464216217569205\n",
      "When were the Normans in Normandy?\n",
      "0.766924062581265\n",
      "From which countries did the Norse originate?\n",
      "0.8367082694358695\n",
      "Who was the Norse leader?\n",
      "0.8281035632539371\n",
      "What century did the Normans first gain their separate identity?\n",
      "0.7801512460639792\n",
      "Who gave their name to Normandy in the 1000's and 1100's\n",
      "0.7709699097651416\n",
      "What is France a region of?\n",
      "0.7620795822988401\n",
      "Who did King Charles III swear fealty to?\n",
      "0.8354300579648941\n",
      "When did the Frankish identity emerge?\n",
      "0.7295090650919029\n",
      "* * * * * * * * * * \n",
      "Through generations of assimilation and mixing with the native Frankish and Roman-Gaulish populations, their descendants would gradually merge with the Carolingian-based cultures of West Francia.\n",
      "^#^#^#^#^#^#^#^#^#^#\n",
      "In what country is Normandy located?\n",
      "0.7300097792964706\n",
      "When were the Normans in Normandy?\n",
      "0.7370208781085961\n",
      "From which countries did the Norse originate?\n",
      "0.8029134648133188\n",
      "Who was the Norse leader?\n",
      "0.7056849285371821\n",
      "What century did the Normans first gain their separate identity?\n",
      "0.8352556590888185\n",
      "Who gave their name to Normandy in the 1000's and 1100's\n",
      "0.7672693473278052\n",
      "What is France a region of?\n",
      "0.7810404694217284\n",
      "Who did King Charles III swear fealty to?\n",
      "0.6680156924530845\n",
      "When did the Frankish identity emerge?\n",
      "0.7431623310499373\n",
      "* * * * * * * * * * \n",
      "The distinct cultural and ethnic identity of the Normans emerged initially in the first half of the 10th century, and it continued to evolve over the succeeding centuries.\n",
      "^#^#^#^#^#^#^#^#^#^#\n",
      "In what country is Normandy located?\n",
      "0.7608221901476812\n",
      "When were the Normans in Normandy?\n",
      "0.7654162616412935\n",
      "From which countries did the Norse originate?\n",
      "0.8279494067597142\n",
      "Who was the Norse leader?\n",
      "0.756499011558756\n",
      "What century did the Normans first gain their separate identity?\n",
      "0.9123831473284751\n",
      "Who gave their name to Normandy in the 1000's and 1100's\n",
      "0.8406601933235781\n",
      "What is France a region of?\n",
      "0.8021711595532678\n",
      "Who did King Charles III swear fealty to?\n",
      "0.6641013032860991\n",
      "When did the Frankish identity emerge?\n",
      "0.7755078658067917\n",
      "* * * * * * * * * * \n"
     ]
    }
   ],
   "source": [
    "for sent in nlpcontext.sents:\n",
    "    print(sent.text)\n",
    "    print(\"^#\" * 10)\n",
    "    for question in nlpquestions:\n",
    "        sim = question.similarity(sent)\n",
    "        print(question)\n",
    "        print(sim)\n",
    "    print(\"* \" * 10)"
   ]
  },
  {
   "cell_type": "code",
   "execution_count": 17,
   "metadata": {},
   "outputs": [
    {
     "name": "stdout",
     "output_type": "stream",
     "text": [
      "Question: \n",
      "In what country is Normandy located?\n",
      "The Normans (Norman: Nourmands; French: Normands; Latin: Normanni) were the people who in the 10th and 11th centuries gave their name to Normandy, a region in France.\n",
      "*&!*&!*&!*&!*&!*&!*&!*&!*&!*&!\n",
      "Question: \n",
      "When were the Normans in Normandy?\n",
      "The Normans (Norman: Nourmands; French: Normands; Latin: Normanni) were the people who in the 10th and 11th centuries gave their name to Normandy, a region in France.\n",
      "*&!*&!*&!*&!*&!*&!*&!*&!*&!*&!\n",
      "Question: \n",
      "From which countries did the Norse originate?\n",
      "They were descended from Norse (\"Norman\" comes from \"Norseman\") raiders and pirates from Denmark, Iceland and Norway who, under their leader Rollo, agreed to swear fealty to King Charles III of West Francia.\n",
      "*&!*&!*&!*&!*&!*&!*&!*&!*&!*&!\n",
      "Question: \n",
      "Who was the Norse leader?\n",
      "They were descended from Norse (\"Norman\" comes from \"Norseman\") raiders and pirates from Denmark, Iceland and Norway who, under their leader Rollo, agreed to swear fealty to King Charles III of West Francia.\n",
      "*&!*&!*&!*&!*&!*&!*&!*&!*&!*&!\n",
      "Question: \n",
      "What century did the Normans first gain their separate identity?\n",
      "The distinct cultural and ethnic identity of the Normans emerged initially in the first half of the 10th century, and it continued to evolve over the succeeding centuries.\n",
      "*&!*&!*&!*&!*&!*&!*&!*&!*&!*&!\n",
      "Question: \n",
      "Who gave their name to Normandy in the 1000's and 1100's\n",
      "The Normans (Norman: Nourmands; French: Normands; Latin: Normanni) were the people who in the 10th and 11th centuries gave their name to Normandy, a region in France.\n",
      "*&!*&!*&!*&!*&!*&!*&!*&!*&!*&!\n",
      "Question: \n",
      "What is France a region of?\n",
      "The Normans (Norman: Nourmands; French: Normands; Latin: Normanni) were the people who in the 10th and 11th centuries gave their name to Normandy, a region in France.\n",
      "*&!*&!*&!*&!*&!*&!*&!*&!*&!*&!\n",
      "Question: \n",
      "Who did King Charles III swear fealty to?\n",
      "They were descended from Norse (\"Norman\" comes from \"Norseman\") raiders and pirates from Denmark, Iceland and Norway who, under their leader Rollo, agreed to swear fealty to King Charles III of West Francia.\n",
      "*&!*&!*&!*&!*&!*&!*&!*&!*&!*&!\n",
      "Question: \n",
      "When did the Frankish identity emerge?\n",
      "The distinct cultural and ethnic identity of the Normans emerged initially in the first half of the 10th century, and it continued to evolve over the succeeding centuries.\n",
      "*&!*&!*&!*&!*&!*&!*&!*&!*&!*&!\n"
     ]
    }
   ],
   "source": [
    "nlpsentences = [sentence for sentence in nlpcontext.sents]\n",
    "for question in nlpquestions:\n",
    "    print(\"Question: \")\n",
    "    print(question)\n",
    "    answer_targets = []\n",
    "    for sentence in nlpsentences:\n",
    "        sim = question.similarity(sentence)\n",
    "        answer_targets.append(sim)\n",
    "        \n",
    "    print(nlpsentences[answer_targets.index(max(answer_targets))])\n",
    "\n",
    "    print(\"*&!\" * 10)\n",
    "        "
   ]
  },
  {
   "cell_type": "code",
   "execution_count": 19,
   "metadata": {},
   "outputs": [
    {
     "name": "stdout",
     "output_type": "stream",
     "text": [
      "*(*(^*(*(^*(*(^*(*(^*(*(^*(*(^*(*(^*(*(^*(*(^*(*(^*(*(^*(*(^*(*(^*(*(^*(*(^*(*(^*(*(^*(*(^*(*(^*(*(^\n",
      "The Normans (Norman: Nourmands; French: Normands; Latin: Normanni) were the people who in the 10th and 11th centuries gave their name to Normandy, a region in France. They were descended from Norse (\"Norman\" comes from \"Norseman\") raiders and pirates from Denmark, Iceland and Norway who, under their leader Rollo, agreed to swear fealty to King Charles III of West Francia. Through generations of assimilation and mixing with the native Frankish and Roman-Gaulish populations, their descendants would gradually merge with the Carolingian-based cultures of West Francia. The distinct cultural and ethnic identity of the Normans emerged initially in the first half of the 10th century, and it continued to evolve over the succeeding centuries.\n",
      "*(*(^*(*(^*(*(^*(*(^*(*(^*(*(^*(*(^*(*(^*(*(^*(*(^*(*(^*(*(^*(*(^*(*(^*(*(^*(*(^*(*(^*(*(^*(*(^*(*(^\n",
      "The Norman dynasty had a major political, cultural and military impact on medieval Europe and even the Near East. The Normans were famed for their martial spirit and eventually for their Christian piety, becoming exponents of the Catholic orthodoxy into which they assimilated. They adopted the Gallo-Romance language of the Frankish land they settled, their dialect becoming known as Norman, Normaund or Norman French, an important literary language. The Duchy of Normandy, which they formed by treaty with the French crown, was a great fief of medieval France, and under Richard I of Normandy was forged into a cohesive and formidable principality in feudal tenure. The Normans are noted both for their culture, such as their unique Romanesque architecture and musical traditions, and for their significant military accomplishments and innovations. Norman adventurers founded the Kingdom of Sicily under Roger II after conquering southern Italy on the Saracens and Byzantines, and an expedition on behalf of their duke, William the Conqueror, led to the Norman conquest of England at the Battle of Hastings in 1066. Norman cultural and military influence spread from these new European centres to the Crusader states of the Near East, where their prince Bohemond I founded the Principality of Antioch in the Levant, to Scotland and Wales in Great Britain, to Ireland, and to the coasts of north Africa and the Canary Islands.\n",
      "*(*(^*(*(^*(*(^*(*(^*(*(^*(*(^*(*(^*(*(^*(*(^*(*(^*(*(^*(*(^*(*(^*(*(^*(*(^*(*(^*(*(^*(*(^*(*(^*(*(^\n",
      "The English name \"Normans\" comes from the French words Normans/Normanz, plural of Normant, modern French normand, which is itself borrowed from Old Low Franconian Nortmann \"Northman\" or directly from Old Norse Norðmaðr, Latinized variously as Nortmannus, Normannus, or Nordmannus (recorded in Medieval Latin, 9th century) to mean \"Norseman, Viking\".\n",
      "*(*(^*(*(^*(*(^*(*(^*(*(^*(*(^*(*(^*(*(^*(*(^*(*(^*(*(^*(*(^*(*(^*(*(^*(*(^*(*(^*(*(^*(*(^*(*(^*(*(^\n",
      "In the course of the 10th century, the initially destructive incursions of Norse war bands into the rivers of France evolved into more permanent encampments that included local women and personal property. The Duchy of Normandy, which began in 911 as a fiefdom, was established by the treaty of Saint-Clair-sur-Epte between King Charles III of West Francia and the famed Viking ruler Rollo, and was situated in the former Frankish kingdom of Neustria. The treaty offered Rollo and his men the French lands between the river Epte and the Atlantic coast in exchange for their protection against further Viking incursions. The area corresponded to the northern part of present-day Upper Normandy down to the river Seine, but the Duchy would eventually extend west beyond the Seine. The territory was roughly equivalent to the old province of Rouen, and reproduced the Roman administrative structure of Gallia Lugdunensis II (part of the former Gallia Lugdunensis).\n",
      "*(*(^*(*(^*(*(^*(*(^*(*(^*(*(^*(*(^*(*(^*(*(^*(*(^*(*(^*(*(^*(*(^*(*(^*(*(^*(*(^*(*(^*(*(^*(*(^*(*(^\n",
      "Before Rollo's arrival, its populations did not differ from Picardy or the Île-de-France, which were considered \"Frankish\". Earlier Viking settlers had begun arriving in the 880s, but were divided between colonies in the east (Roumois and Pays de Caux) around the low Seine valley and in the west in the Cotentin Peninsula, and were separated by traditional pagii, where the population remained about the same with almost no foreign settlers. Rollo's contingents who raided and ultimately settled Normandy and parts of the Atlantic coast included Danes, Norwegians, Norse–Gaels, Orkney Vikings, possibly Swedes, and Anglo-Danes from the English Danelaw under Norse control.\n",
      "*(*(^*(*(^*(*(^*(*(^*(*(^*(*(^*(*(^*(*(^*(*(^*(*(^*(*(^*(*(^*(*(^*(*(^*(*(^*(*(^*(*(^*(*(^*(*(^*(*(^\n",
      "The descendants of Rollo's Vikings and their Frankish wives would replace the Norse religion and Old Norse language with Catholicism (Christianity) and the Gallo-Romance language of the local people, blending their maternal Frankish heritage with Old Norse traditions and customs to synthesize a unique \"Norman\" culture in the north of France. The Norman language was forged by the adoption of the indigenous langue d'oïl branch of Romance by a Norse-speaking ruling class, and it developed into the regional language that survives today.\n",
      "*(*(^*(*(^*(*(^*(*(^*(*(^*(*(^*(*(^*(*(^*(*(^*(*(^*(*(^*(*(^*(*(^*(*(^*(*(^*(*(^*(*(^*(*(^*(*(^*(*(^\n",
      "The Normans thereafter adopted the growing feudal doctrines of the rest of France, and worked them into a functional hierarchical system in both Normandy and in England. The new Norman rulers were culturally and ethnically distinct from the old French aristocracy, most of whom traced their lineage to Franks of the Carolingian dynasty. Most Norman knights remained poor and land-hungry, and by 1066 Normandy had been exporting fighting horsemen for more than a generation. Many Normans of Italy, France and England eventually served as avid Crusaders under the Italo-Norman prince Bohemund I and the Anglo-Norman king Richard the Lion-Heart.\n",
      "*(*(^*(*(^*(*(^*(*(^*(*(^*(*(^*(*(^*(*(^*(*(^*(*(^*(*(^*(*(^*(*(^*(*(^*(*(^*(*(^*(*(^*(*(^*(*(^*(*(^\n",
      "Soon after the Normans began to enter Italy, they entered the Byzantine Empire and then Armenia, fighting against the Pechenegs, the Bulgars, and especially the Seljuk Turks. Norman mercenaries were first encouraged to come to the south by the Lombards to act against the Byzantines, but they soon fought in Byzantine service in Sicily. They were prominent alongside Varangian and Lombard contingents in the Sicilian campaign of George Maniaces in 1038–40. There is debate whether the Normans in Greek service actually were from Norman Italy, and it now seems likely only a few came from there. It is also unknown how many of the \"Franks\", as the Byzantines called them, were Normans and not other Frenchmen.\n",
      "*(*(^*(*(^*(*(^*(*(^*(*(^*(*(^*(*(^*(*(^*(*(^*(*(^*(*(^*(*(^*(*(^*(*(^*(*(^*(*(^*(*(^*(*(^*(*(^*(*(^\n",
      "One of the first Norman mercenaries to serve as a Byzantine general was Hervé in the 1050s. By then however, there were already Norman mercenaries serving as far away as Trebizond and Georgia. They were based at Malatya and Edessa, under the Byzantine duke of Antioch, Isaac Komnenos. In the 1060s, Robert Crispin led the Normans of Edessa against the Turks. Roussel de Bailleul even tried to carve out an independent state in Asia Minor with support from the local population, but he was stopped by the Byzantine general Alexius Komnenos.\n"
     ]
    }
   ],
   "source": [
    "#import spacy\n",
    "#nlp = spacy.load('en_core_web_md') \n",
    "contexts = [data[\"data\"][0][\"paragraphs\"][i][\"context\"] for i in range(0,9)]\n",
    "nlpcontexts = [nlp(context) for context in contexts]\n",
    "\n",
    "for context in contexts:\n",
    "    print(\"*(*(^\" * 20)\n",
    "    print(context)"
   ]
  },
  {
   "cell_type": "code",
   "execution_count": 25,
   "metadata": {},
   "outputs": [
    {
     "name": "stdout",
     "output_type": "stream",
     "text": [
      "Question: \n",
      "In what country is Normandy located?\n",
      "38\n",
      "38\n",
      "There is debate whether the Normans in Greek service actually were from Norman Italy, and it now seems likely only a few came from there.\n",
      "*&!*&!*&!*&!*&!*&!*&!*&!*&!*&!\n",
      "Question: \n",
      "When were the Normans in Normandy?\n",
      "38\n",
      "38\n",
      "Norman mercenaries were first encouraged to come to the south by the Lombards to act against the Byzantines, but they soon fought in Byzantine service in Sicily.\n",
      "*&!*&!*&!*&!*&!*&!*&!*&!*&!*&!\n",
      "Question: \n",
      "From which countries did the Norse originate?\n",
      "38\n",
      "38\n",
      "There is debate whether the Normans in Greek service actually were from Norman Italy, and it now seems likely only a few came from there.\n",
      "*&!*&!*&!*&!*&!*&!*&!*&!*&!*&!\n",
      "Question: \n",
      "Who was the Norse leader?\n",
      "38\n",
      "38\n",
      "They were descended from Norse (\"Norman\" comes from \"Norseman\") raiders and pirates from Denmark, Iceland and Norway who, under their leader Rollo, agreed to swear fealty to King Charles III of West Francia.\n",
      "*&!*&!*&!*&!*&!*&!*&!*&!*&!*&!\n",
      "Question: \n",
      "What century did the Normans first gain their separate identity?\n",
      "38\n",
      "38\n",
      "The distinct cultural and ethnic identity of the Normans emerged initially in the first half of the 10th century, and it continued to evolve over the succeeding centuries.\n",
      "*&!*&!*&!*&!*&!*&!*&!*&!*&!*&!\n",
      "Question: \n",
      "Who gave their name to Normandy in the 1000's and 1100's\n",
      "38\n",
      "38\n",
      "The Normans (Norman: Nourmands; French: Normands; Latin: Normanni) were the people who in the 10th and 11th centuries gave their name to Normandy, a region in France.\n",
      "*&!*&!*&!*&!*&!*&!*&!*&!*&!*&!\n",
      "Question: \n",
      "What is France a region of?\n",
      "38\n",
      "38\n",
      "There is debate whether the Normans in Greek service actually were from Norman Italy, and it now seems likely only a few came from there.\n",
      "*&!*&!*&!*&!*&!*&!*&!*&!*&!*&!\n",
      "Question: \n",
      "Who did King Charles III swear fealty to?\n",
      "38\n",
      "38\n",
      "They were descended from Norse (\"Norman\" comes from \"Norseman\") raiders and pirates from Denmark, Iceland and Norway who, under their leader Rollo, agreed to swear fealty to King Charles III of West Francia.\n",
      "*&!*&!*&!*&!*&!*&!*&!*&!*&!*&!\n",
      "Question: \n",
      "When did the Frankish identity emerge?\n",
      "38\n",
      "38\n",
      "Norman mercenaries were first encouraged to come to the south by the Lombards to act against the Byzantines, but they soon fought in Byzantine service in Sicily.\n",
      "*&!*&!*&!*&!*&!*&!*&!*&!*&!*&!\n"
     ]
    }
   ],
   "source": [
    "nlpsentences = [sentence for sentence in nlpcontext.sents]\n",
    "for question in nlpquestions:\n",
    "    print(\"Question: \")\n",
    "    print(question)\n",
    "    answer_targets = []\n",
    "    answer_sentences = []\n",
    "    for nlpcontext in nlpcontexts:\n",
    "        for sentence in nlpcontext.sents:\n",
    "            answer_sentences.append(sentence)\n",
    "\n",
    "    for answer_sentence in answer_sentences:\n",
    "        sim = question.similarity(answer_sentence)\n",
    "        answer_targets.append(sim)\n",
    "\n",
    "    print(len(answer_sentences))\n",
    "    print(len(answer_targets))\n",
    "    print(answer_sentences[answer_targets.index(max(answer_targets))])\n",
    "\n",
    "    print(\"*&!\" * 10)\n",
    "        "
   ]
  }
 ],
 "metadata": {
  "kernelspec": {
   "display_name": "conda_python3",
   "language": "python",
   "name": "conda_python3"
  },
  "language_info": {
   "codemirror_mode": {
    "name": "ipython",
    "version": 3
   },
   "file_extension": ".py",
   "mimetype": "text/x-python",
   "name": "python",
   "nbconvert_exporter": "python",
   "pygments_lexer": "ipython3",
   "version": "3.6.5"
  }
 },
 "nbformat": 4,
 "nbformat_minor": 2
}
